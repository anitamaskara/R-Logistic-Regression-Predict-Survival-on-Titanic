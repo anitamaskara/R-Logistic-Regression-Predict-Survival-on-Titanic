{
 "cells": [
  {
   "cell_type": "markdown",
   "metadata": {},
   "source": [
    "# Logistic Regression on Titanic Dataset"
   ]
  },
  {
   "cell_type": "markdown",
   "metadata": {},
   "source": [
    "**By: Anita Maskara**"
   ]
  },
  {
   "cell_type": "code",
   "execution_count": 156,
   "metadata": {},
   "outputs": [],
   "source": [
    "# calling the required packages\n",
    "library(dplyr)\n",
    "library(ggplot2)\n",
    "library(ggthemes)\n",
    "library(corrgram)\n",
    "library(corrplot)\n",
    "library(caTools)\n",
    "library(Amelia)\n",
    "library(plotly)\n",
    "library(irr)"
   ]
  },
  {
   "cell_type": "code",
   "execution_count": 157,
   "metadata": {},
   "outputs": [
    {
     "name": "stdout",
     "output_type": "stream",
     "text": [
      "'data.frame':\t1309 obs. of  12 variables:\n",
      " $ PassengerId: int  1 2 3 4 5 6 7 8 9 10 ...\n",
      " $ Survived   : int  0 1 1 1 0 0 0 0 1 1 ...\n",
      " $ Pclass     : int  3 1 3 1 3 3 1 3 3 2 ...\n",
      " $ Name       : chr  \"Braund, Mr. Owen Harris\" \"Cumings, Mrs. John Bradley (Florence Briggs Thayer)\" \"Heikkinen, Miss. Laina\" \"Futrelle, Mrs. Jacques Heath (Lily May Peel)\" ...\n",
      " $ Sex        : chr  \"male\" \"female\" \"female\" \"female\" ...\n",
      " $ Age        : num  22 38 26 35 35 NA 54 2 27 14 ...\n",
      " $ SibSp      : int  1 1 0 1 0 0 0 3 0 1 ...\n",
      " $ Parch      : int  0 0 0 0 0 0 0 1 2 0 ...\n",
      " $ Ticket     : chr  \"A/5 21171\" \"PC 17599\" \"STON/O2. 3101282\" \"113803\" ...\n",
      " $ Fare       : num  7.25 71.28 7.92 53.1 8.05 ...\n",
      " $ Cabin      : chr  \"\" \"C85\" \"\" \"C123\" ...\n",
      " $ Embarked   : chr  \"S\" \"C\" \"S\" \"S\" ...\n"
     ]
    }
   ],
   "source": [
    "## Load Titanic library to get the dataset\n",
    "library(titanic)\n",
    "\n",
    "## Load the datasets\n",
    "data(\"titanic_train\")\n",
    "data(\"titanic_test\")\n",
    "\n",
    "## Adding Survived column for test data to NA so that rbind can work\n",
    "titanic_test$Survived <- NA\n",
    "\n",
    "## Combining Training and Testing dataset\n",
    "complete_data <- rbind(titanic_train, titanic_test)\n",
    "\n",
    "## Check data structure\n",
    "str(complete_data)"
   ]
  },
  {
   "cell_type": "code",
   "execution_count": 158,
   "metadata": {},
   "outputs": [
    {
     "data": {
      "text/html": [
       "0"
      ],
      "text/latex": [
       "0"
      ],
      "text/markdown": [
       "0"
      ],
      "text/plain": [
       "[1] 0"
      ]
     },
     "metadata": {},
     "output_type": "display_data"
    }
   ],
   "source": [
    "## Let's check for any duplicates in the data\n",
    "sum(duplicated(complete_data))"
   ]
  },
  {
   "cell_type": "code",
   "execution_count": 159,
   "metadata": {},
   "outputs": [
    {
     "data": {
      "text/html": [
       "<dl class=dl-horizontal>\n",
       "\t<dt>PassengerId</dt>\n",
       "\t\t<dd>0</dd>\n",
       "\t<dt>Survived</dt>\n",
       "\t\t<dd>418</dd>\n",
       "\t<dt>Pclass</dt>\n",
       "\t\t<dd>0</dd>\n",
       "\t<dt>Name</dt>\n",
       "\t\t<dd>0</dd>\n",
       "\t<dt>Sex</dt>\n",
       "\t\t<dd>0</dd>\n",
       "\t<dt>Age</dt>\n",
       "\t\t<dd>263</dd>\n",
       "\t<dt>SibSp</dt>\n",
       "\t\t<dd>0</dd>\n",
       "\t<dt>Parch</dt>\n",
       "\t\t<dd>0</dd>\n",
       "\t<dt>Ticket</dt>\n",
       "\t\t<dd>0</dd>\n",
       "\t<dt>Fare</dt>\n",
       "\t\t<dd>1</dd>\n",
       "\t<dt>Cabin</dt>\n",
       "\t\t<dd>0</dd>\n",
       "\t<dt>Embarked</dt>\n",
       "\t\t<dd>0</dd>\n",
       "</dl>\n"
      ],
      "text/latex": [
       "\\begin{description*}\n",
       "\\item[PassengerId] 0\n",
       "\\item[Survived] 418\n",
       "\\item[Pclass] 0\n",
       "\\item[Name] 0\n",
       "\\item[Sex] 0\n",
       "\\item[Age] 263\n",
       "\\item[SibSp] 0\n",
       "\\item[Parch] 0\n",
       "\\item[Ticket] 0\n",
       "\\item[Fare] 1\n",
       "\\item[Cabin] 0\n",
       "\\item[Embarked] 0\n",
       "\\end{description*}\n"
      ],
      "text/markdown": [
       "PassengerId\n",
       ":   0Survived\n",
       ":   418Pclass\n",
       ":   0Name\n",
       ":   0Sex\n",
       ":   0Age\n",
       ":   263SibSp\n",
       ":   0Parch\n",
       ":   0Ticket\n",
       ":   0Fare\n",
       ":   1Cabin\n",
       ":   0Embarked\n",
       ":   0\n",
       "\n"
      ],
      "text/plain": [
       "PassengerId    Survived      Pclass        Name         Sex         Age \n",
       "          0         418           0           0           0         263 \n",
       "      SibSp       Parch      Ticket        Fare       Cabin    Embarked \n",
       "          0           0           0           1           0           0 "
      ]
     },
     "metadata": {},
     "output_type": "display_data"
    }
   ],
   "source": [
    "## Let's check for any missing values in the data\n",
    "colSums(is.na(complete_data))"
   ]
  },
  {
   "cell_type": "markdown",
   "metadata": {},
   "source": [
    "418 missing values in Survived are from the test dataset. <br>\n",
    "We will impute the ages that are missing <br>\n",
    "The one row that has missing value in `Fare` column will be replaced with the average of `Fare`"
   ]
  },
  {
   "cell_type": "code",
   "execution_count": 160,
   "metadata": {},
   "outputs": [
    {
     "data": {
      "text/html": [
       "<dl class=dl-horizontal>\n",
       "\t<dt>PassengerId</dt>\n",
       "\t\t<dd>0</dd>\n",
       "\t<dt>Survived</dt>\n",
       "\t\t<dd>&lt;NA&gt;</dd>\n",
       "\t<dt>Pclass</dt>\n",
       "\t\t<dd>0</dd>\n",
       "\t<dt>Name</dt>\n",
       "\t\t<dd>0</dd>\n",
       "\t<dt>Sex</dt>\n",
       "\t\t<dd>0</dd>\n",
       "\t<dt>Age</dt>\n",
       "\t\t<dd>&lt;NA&gt;</dd>\n",
       "\t<dt>SibSp</dt>\n",
       "\t\t<dd>0</dd>\n",
       "\t<dt>Parch</dt>\n",
       "\t\t<dd>0</dd>\n",
       "\t<dt>Ticket</dt>\n",
       "\t\t<dd>0</dd>\n",
       "\t<dt>Fare</dt>\n",
       "\t\t<dd>&lt;NA&gt;</dd>\n",
       "\t<dt>Cabin</dt>\n",
       "\t\t<dd>1014</dd>\n",
       "\t<dt>Embarked</dt>\n",
       "\t\t<dd>2</dd>\n",
       "</dl>\n"
      ],
      "text/latex": [
       "\\begin{description*}\n",
       "\\item[PassengerId] 0\n",
       "\\item[Survived] <NA>\n",
       "\\item[Pclass] 0\n",
       "\\item[Name] 0\n",
       "\\item[Sex] 0\n",
       "\\item[Age] <NA>\n",
       "\\item[SibSp] 0\n",
       "\\item[Parch] 0\n",
       "\\item[Ticket] 0\n",
       "\\item[Fare] <NA>\n",
       "\\item[Cabin] 1014\n",
       "\\item[Embarked] 2\n",
       "\\end{description*}\n"
      ],
      "text/markdown": [
       "PassengerId\n",
       ":   0Survived\n",
       ":   &lt;NA&gt;Pclass\n",
       ":   0Name\n",
       ":   0Sex\n",
       ":   0Age\n",
       ":   &lt;NA&gt;SibSp\n",
       ":   0Parch\n",
       ":   0Ticket\n",
       ":   0Fare\n",
       ":   &lt;NA&gt;Cabin\n",
       ":   1014Embarked\n",
       ":   2\n",
       "\n"
      ],
      "text/plain": [
       "PassengerId    Survived      Pclass        Name         Sex         Age \n",
       "          0          NA           0           0           0          NA \n",
       "      SibSp       Parch      Ticket        Fare       Cabin    Embarked \n",
       "          0           0           0          NA        1014           2 "
      ]
     },
     "metadata": {},
     "output_type": "display_data"
    }
   ],
   "source": [
    "## Checking for empty values\n",
    "colSums(complete_data=='')"
   ]
  },
  {
   "cell_type": "code",
   "execution_count": 161,
   "metadata": {},
   "outputs": [],
   "source": [
    "My_Theme = theme(\n",
    "  axis.title.x = element_text(size = 6, face='bold'),\n",
    "  axis.text.x = element_text(size = 4, face = 'bold'),\n",
    "  axis.text.y = element_text(size = 4),\n",
    "  axis.title.y = element_text(size = 6, face='bold'))"
   ]
  },
  {
   "cell_type": "code",
   "execution_count": 162,
   "metadata": {},
   "outputs": [
    {
     "name": "stderr",
     "output_type": "stream",
     "text": [
      "Warning message:\n",
      "\"Removed 263 rows containing non-finite values (stat_boxplot).\""
     ]
    },
    {
     "data": {
      "image/png": "[encoded data removed]",
      "text/plain": [
       "plot without title"
      ]
     },
     "metadata": {},
     "output_type": "display_data"
    }
   ],
   "source": [
    "# Boxplot of Pclass and Age\n",
    "ggplot(complete_data, aes(x=Pclass, y=Age)) + geom_boxplot(aes(group=Pclass, fill=factor(Pclass))) + scale_y_continuous(breaks = seq(min(0), max(80), by=10))+ My_Theme + theme(legend.position=\"left\",legend.title=element_text(size=4), legend.key.size = unit(.2, \"cm\"),legend.text = element_text(size = 4))"
   ]
  },
  {
   "cell_type": "markdown",
   "metadata": {},
   "source": [
    "**The average age of Pclass 1 is higher than Pclass 2. Also average age of Pclass 2 is higher than\n",
    "average age of Pclass 3. This makes sense because to buy a Pclass 1 ticket requires you to be little wealthier\n",
    "and it takes more years to acquire that kind of wealth.**"
   ]
  },
  {
   "cell_type": "markdown",
   "metadata": {},
   "source": [
    "### Imputing the missing values in `Age` variable based on the above boxplot"
   ]
  },
  {
   "cell_type": "code",
   "execution_count": 163,
   "metadata": {},
   "outputs": [],
   "source": [
    "# Imputing Age by using a function\n",
    "impute_age <- function(age,class){\n",
    "  out <- age\n",
    "  for (i in 1:length(age)){\n",
    "    if(is.na(age[i])){\n",
    "      if(class[i]==1){\n",
    "        out[i]<- 37\n",
    "      }else if(class[i]==2){\n",
    "        out[i]<- 29\n",
    "        \n",
    "      }else{\n",
    "        out[i] <- 24\n",
    "      }\n",
    "    }else{\n",
    "      out[i]<- age[i]\n",
    "    }\n",
    "  }\n",
    "  return(out)\n",
    "}"
   ]
  },
  {
   "cell_type": "code",
   "execution_count": 164,
   "metadata": {},
   "outputs": [],
   "source": [
    "# Running the function\n",
    "imputed_ages <- impute_age(complete_data$Age, complete_data$Pclass)"
   ]
  },
  {
   "cell_type": "code",
   "execution_count": 165,
   "metadata": {},
   "outputs": [],
   "source": [
    "# Replacing na values in Age variable with imputed ages\n",
    "complete_data$Age <- imputed_ages"
   ]
  },
  {
   "cell_type": "code",
   "execution_count": 217,
   "metadata": {},
   "outputs": [],
   "source": [
    "# Deleting row that has missing value in Fare column \n",
    "complete_data <- complete_data[!is.na(complete_data$Fare), ]"
   ]
  },
  {
   "cell_type": "code",
   "execution_count": 218,
   "metadata": {},
   "outputs": [
    {
     "data": {
      "text/html": [
       "0"
      ],
      "text/latex": [
       "0"
      ],
      "text/markdown": [
       "0"
      ],
      "text/plain": [
       "[1] 0"
      ]
     },
     "metadata": {},
     "output_type": "display_data"
    }
   ],
   "source": [
    "# checking to see `Fare` variable does not have any more missing values\n",
    "sum(is.na(complete_data$Fare))"
   ]
  },
  {
   "cell_type": "markdown",
   "metadata": {},
   "source": [
    "**Cabin variable has a lot of missing values. Hence we will drop this variable**"
   ]
  },
  {
   "cell_type": "code",
   "execution_count": 168,
   "metadata": {},
   "outputs": [],
   "source": [
    "complete_data <- select(complete_data, -Cabin)"
   ]
  },
  {
   "cell_type": "code",
   "execution_count": 169,
   "metadata": {},
   "outputs": [
    {
     "data": {
      "text/plain": [
       "\n",
       "      C   Q   S \n",
       "  2 270 123 914 "
      ]
     },
     "metadata": {},
     "output_type": "display_data"
    }
   ],
   "source": [
    "# Finding the frequency count of Embarked\n",
    "table(complete_data$Embarked)"
   ]
  },
  {
   "cell_type": "markdown",
   "metadata": {},
   "source": [
    "Since majority of passengers embarked from 'S', we will replace the missing value with 'S'"
   ]
  },
  {
   "cell_type": "code",
   "execution_count": 170,
   "metadata": {},
   "outputs": [],
   "source": [
    "# Replacing missing value in Embarked variable\n",
    "complete_data$Embarked[complete_data$Embarked==\"\"] <- 'S'"
   ]
  },
  {
   "cell_type": "code",
   "execution_count": 171,
   "metadata": {},
   "outputs": [
    {
     "data": {
      "text/html": [
       "<dl class=dl-horizontal>\n",
       "\t<dt>PassengerId</dt>\n",
       "\t\t<dd>1309</dd>\n",
       "\t<dt>Survived</dt>\n",
       "\t\t<dd>3</dd>\n",
       "\t<dt>Pclass</dt>\n",
       "\t\t<dd>3</dd>\n",
       "\t<dt>Name</dt>\n",
       "\t\t<dd>1307</dd>\n",
       "\t<dt>Sex</dt>\n",
       "\t\t<dd>2</dd>\n",
       "\t<dt>Age</dt>\n",
       "\t\t<dd>98</dd>\n",
       "\t<dt>SibSp</dt>\n",
       "\t\t<dd>7</dd>\n",
       "\t<dt>Parch</dt>\n",
       "\t\t<dd>8</dd>\n",
       "\t<dt>Ticket</dt>\n",
       "\t\t<dd>929</dd>\n",
       "\t<dt>Fare</dt>\n",
       "\t\t<dd>282</dd>\n",
       "\t<dt>Embarked</dt>\n",
       "\t\t<dd>3</dd>\n",
       "</dl>\n"
      ],
      "text/latex": [
       "\\begin{description*}\n",
       "\\item[PassengerId] 1309\n",
       "\\item[Survived] 3\n",
       "\\item[Pclass] 3\n",
       "\\item[Name] 1307\n",
       "\\item[Sex] 2\n",
       "\\item[Age] 98\n",
       "\\item[SibSp] 7\n",
       "\\item[Parch] 8\n",
       "\\item[Ticket] 929\n",
       "\\item[Fare] 282\n",
       "\\item[Embarked] 3\n",
       "\\end{description*}\n"
      ],
      "text/markdown": [
       "PassengerId\n",
       ":   1309Survived\n",
       ":   3Pclass\n",
       ":   3Name\n",
       ":   1307Sex\n",
       ":   2Age\n",
       ":   98SibSp\n",
       ":   7Parch\n",
       ":   8Ticket\n",
       ":   929Fare\n",
       ":   282Embarked\n",
       ":   3\n",
       "\n"
      ],
      "text/plain": [
       "PassengerId    Survived      Pclass        Name         Sex         Age \n",
       "       1309           3           3        1307           2          98 \n",
       "      SibSp       Parch      Ticket        Fare    Embarked \n",
       "          7           8         929         282           3 "
      ]
     },
     "metadata": {},
     "output_type": "display_data"
    }
   ],
   "source": [
    "## Check number of uniques values for each of the column to find out columns which we can convert to factors\n",
    "sapply(complete_data, function(x) length(unique(x)))"
   ]
  },
  {
   "cell_type": "code",
   "execution_count": 172,
   "metadata": {},
   "outputs": [],
   "source": [
    "## Removing passengerId, Ticket and Name as they are not required for logistic regression model\n",
    "complete_data <- select(complete_data, -PassengerId, -Ticket, -Name)"
   ]
  },
  {
   "cell_type": "code",
   "execution_count": 173,
   "metadata": {},
   "outputs": [],
   "source": [
    "# creating a copy of complete_data \n",
    "df <- complete_data"
   ]
  },
  {
   "cell_type": "code",
   "execution_count": 174,
   "metadata": {},
   "outputs": [
    {
     "name": "stdout",
     "output_type": "stream",
     "text": [
      "'data.frame':\t1309 obs. of  8 variables:\n",
      " $ Survived: int  0 1 1 1 0 0 0 0 1 1 ...\n",
      " $ Pclass  : int  3 1 3 1 3 3 1 3 3 2 ...\n",
      " $ Sex     : chr  \"male\" \"female\" \"female\" \"female\" ...\n",
      " $ Age     : num  22 38 26 35 35 24 54 2 27 14 ...\n",
      " $ SibSp   : int  1 1 0 1 0 0 0 3 0 1 ...\n",
      " $ Parch   : int  0 0 0 0 0 0 0 1 2 0 ...\n",
      " $ Fare    : num  7.25 71.28 7.92 53.1 8.05 ...\n",
      " $ Embarked: chr  \"S\" \"C\" \"S\" \"S\" ...\n"
     ]
    }
   ],
   "source": [
    "# Checking the structure of the dataset\n",
    "str(df)"
   ]
  },
  {
   "cell_type": "markdown",
   "metadata": {},
   "source": [
    "## Exploratory Data Analysis"
   ]
  },
  {
   "cell_type": "markdown",
   "metadata": {},
   "source": [
    "### UNIVARIATE PLOTS"
   ]
  },
  {
   "cell_type": "code",
   "execution_count": 175,
   "metadata": {},
   "outputs": [
    {
     "name": "stderr",
     "output_type": "stream",
     "text": [
      "Warning message:\n",
      "\"Removed 418 rows containing non-finite values (stat_count).\""
     ]
    },
    {
     "data": {
      "image/png": "[encoded data removed]",
      "text/plain": [
       "plot without title"
      ]
     },
     "metadata": {},
     "output_type": "display_data"
    }
   ],
   "source": [
    "# Barplot for Suvived variable\n",
    "options(repr.plot.width = 3, repr.plot.height = 1.25, repr.plot.res = 200)\n",
    "print(ggplot(df, aes(Survived)) + geom_bar(aes(fill=factor(Survived))) + My_Theme + theme(legend.position=\"none\"))"
   ]
  },
  {
   "cell_type": "code",
   "execution_count": 176,
   "metadata": {},
   "outputs": [
    {
     "data": {
      "image/png": "[encoded data removed]",
      "text/plain": [
       "plot without title"
      ]
     },
     "metadata": {},
     "output_type": "display_data"
    }
   ],
   "source": [
    "# Barplot for Pclass variable\n",
    "options(repr.plot.width = 3, repr.plot.height = 1.25, repr.plot.res = 200)\n",
    "print(ggplot(df, aes(Pclass)) + geom_bar(aes(fill=factor(Pclass))) + My_Theme + theme(legend.position=\"none\"))"
   ]
  },
  {
   "cell_type": "code",
   "execution_count": 177,
   "metadata": {},
   "outputs": [],
   "source": [
    "My_Theme = theme(\n",
    "  axis.title.x = element_text(size = 6, face='bold'),\n",
    "  axis.text.x = element_text(size = 4, face = 'bold'),\n",
    "  axis.text.y = element_text(size = 4),\n",
    "  axis.title.y = element_text(size = 6, face='bold'))"
   ]
  },
  {
   "cell_type": "code",
   "execution_count": 178,
   "metadata": {},
   "outputs": [
    {
     "data": {
      "image/png": "[encoded data removed]",
      "text/plain": [
       "plot without title"
      ]
     },
     "metadata": {},
     "output_type": "display_data"
    }
   ],
   "source": [
    "# Barplot for sex variable\n",
    "options(repr.plot.width = 3, repr.plot.height = 1.25, repr.plot.res = 200)\n",
    "print(ggplot(df, aes(Sex)) + geom_bar(aes(fill=factor(Sex))) + My_Theme + theme(legend.position=\"none\"))"
   ]
  },
  {
   "cell_type": "markdown",
   "metadata": {},
   "source": [
    "**there were a lot more males than females onboard.**"
   ]
  },
  {
   "cell_type": "code",
   "execution_count": 179,
   "metadata": {},
   "outputs": [
    {
     "data": {
      "image/png": "[encoded data removed]",
      "text/plain": [
       "plot without title"
      ]
     },
     "metadata": {},
     "output_type": "display_data"
    }
   ],
   "source": [
    "# Barplot for SibSp variable\n",
    "print(ggplot(df, aes(SibSp)) + geom_bar() + My_Theme)\n"
   ]
  },
  {
   "cell_type": "markdown",
   "metadata": {},
   "source": [
    "**Looks like majority of people did not have sibling or spouse onboard.**"
   ]
  },
  {
   "cell_type": "code",
   "execution_count": 180,
   "metadata": {},
   "outputs": [
    {
     "data": {
      "image/png": "[encoded data removed]",
      "text/plain": [
       "plot without title"
      ]
     },
     "metadata": {},
     "output_type": "display_data"
    }
   ],
   "source": [
    "# Histogram of age\n",
    "ggplot(df, aes(Age)) + geom_histogram(bins = 20, alpha = 0.5, fill='blue', color='black')"
   ]
  },
  {
   "cell_type": "markdown",
   "metadata": {},
   "source": [
    "**Most people onboard were somewhere between the ages of 20 and 40 We have less older people. We have quite a few people below age 20 also.**"
   ]
  },
  {
   "cell_type": "code",
   "execution_count": 181,
   "metadata": {},
   "outputs": [
    {
     "name": "stderr",
     "output_type": "stream",
     "text": [
      "Warning message:\n",
      "\"Removed 1 rows containing non-finite values (stat_bin).\""
     ]
    },
    {
     "data": {
      "image/png": "[encoded data removed]",
      "text/plain": [
       "plot without title"
      ]
     },
     "metadata": {},
     "output_type": "display_data"
    }
   ],
   "source": [
    "# Histogram of Fare variable\n",
    "ggplot(df, aes(Fare)) + geom_histogram(bins = 20, alpha = 0.5, fill='green', color='black')"
   ]
  },
  {
   "cell_type": "markdown",
   "metadata": {},
   "source": [
    "**Looks like most people paid a low fare which makes sense because a lot of people were on Pclass 3**"
   ]
  },
  {
   "cell_type": "code",
   "execution_count": 182,
   "metadata": {},
   "outputs": [],
   "source": [
    "# Deleting the row that has missing value in Fare variable\n",
    "df <- df[-c(1044),]"
   ]
  },
  {
   "cell_type": "markdown",
   "metadata": {},
   "source": [
    "### BIVARIATE PLOTS"
   ]
  },
  {
   "cell_type": "code",
   "execution_count": 183,
   "metadata": {},
   "outputs": [
    {
     "data": {
      "image/png": "[encoded data removed]",
      "text/plain": [
       "plot without title"
      ]
     },
     "metadata": {},
     "output_type": "display_data"
    }
   ],
   "source": [
    "# Barplot of Sex and Pclass\n",
    "print(ggplot(df, aes(Sex,  main=\"Title\")) + geom_bar(aes(fill=factor(Pclass)), position=\"dodge\") + My_Theme + theme(legend.position=\"left\",legend.title=element_text(size=4), legend.key.size = unit(.2, \"cm\"),legend.text = element_text(size = 4)))"
   ]
  },
  {
   "cell_type": "code",
   "execution_count": 184,
   "metadata": {},
   "outputs": [
    {
     "name": "stderr",
     "output_type": "stream",
     "text": [
      "Warning message in model.matrix.default(~x - 1, model.frame(~x - 1), contrasts = FALSE):\n",
      "\"non-list contrasts argument ignored\"Warning message in model.matrix.default(~x - 1, model.frame(~x - 1), contrasts = FALSE):\n",
      "\"non-list contrasts argument ignored\"Warning message in model.matrix.default(~x - 1, model.frame(~x - 1), contrasts = FALSE):\n",
      "\"non-list contrasts argument ignored\""
     ]
    }
   ],
   "source": [
    "# Converting \"Survived\",\"Pclass\",\"Sex\",\"Embarked\" to factors\n",
    "\n",
    "for(i in c(\"Survived\",\"Pclass\",\"Sex\",\"Embarked\")){\n",
    "    df[,i]=as.factor(df[,i])\n",
    "}\n",
    "\n",
    "# Creating dummy variables for factor variables\n",
    "library(dummies)\n",
    "df <- dummy.data.frame(df, names=c(\"Pclass\",\"Sex\",\"Embarked\"), sep=\"_\")"
   ]
  },
  {
   "cell_type": "code",
   "execution_count": 185,
   "metadata": {},
   "outputs": [
    {
     "data": {
      "text/html": [
       "<table>\n",
       "<thead><tr><th scope=col>Survived</th><th scope=col>Pclass_1</th><th scope=col>Pclass_2</th><th scope=col>Pclass_3</th><th scope=col>Sex_female</th><th scope=col>Sex_male</th><th scope=col>Age</th><th scope=col>SibSp</th><th scope=col>Parch</th><th scope=col>Fare</th><th scope=col>Embarked_C</th><th scope=col>Embarked_Q</th><th scope=col>Embarked_S</th></tr></thead>\n",
       "<tbody>\n",
       "\t<tr><td>0      </td><td>0      </td><td>0      </td><td>1      </td><td>0      </td><td>1      </td><td>22     </td><td>1      </td><td>0      </td><td> 7.2500</td><td>0      </td><td>0      </td><td>1      </td></tr>\n",
       "\t<tr><td>1      </td><td>1      </td><td>0      </td><td>0      </td><td>1      </td><td>0      </td><td>38     </td><td>1      </td><td>0      </td><td>71.2833</td><td>1      </td><td>0      </td><td>0      </td></tr>\n",
       "\t<tr><td>1      </td><td>0      </td><td>0      </td><td>1      </td><td>1      </td><td>0      </td><td>26     </td><td>0      </td><td>0      </td><td> 7.9250</td><td>0      </td><td>0      </td><td>1      </td></tr>\n",
       "\t<tr><td>1      </td><td>1      </td><td>0      </td><td>0      </td><td>1      </td><td>0      </td><td>35     </td><td>1      </td><td>0      </td><td>53.1000</td><td>0      </td><td>0      </td><td>1      </td></tr>\n",
       "\t<tr><td>0      </td><td>0      </td><td>0      </td><td>1      </td><td>0      </td><td>1      </td><td>35     </td><td>0      </td><td>0      </td><td> 8.0500</td><td>0      </td><td>0      </td><td>1      </td></tr>\n",
       "\t<tr><td>0      </td><td>0      </td><td>0      </td><td>1      </td><td>0      </td><td>1      </td><td>24     </td><td>0      </td><td>0      </td><td> 8.4583</td><td>0      </td><td>1      </td><td>0      </td></tr>\n",
       "</tbody>\n",
       "</table>\n"
      ],
      "text/latex": [
       "\\begin{tabular}{r|lllllllllllll}\n",
       " Survived & Pclass\\_1 & Pclass\\_2 & Pclass\\_3 & Sex\\_female & Sex\\_male & Age & SibSp & Parch & Fare & Embarked\\_C & Embarked\\_Q & Embarked\\_S\\\\\n",
       "\\hline\n",
       "\t 0       & 0       & 0       & 1       & 0       & 1       & 22      & 1       & 0       &  7.2500 & 0       & 0       & 1      \\\\\n",
       "\t 1       & 1       & 0       & 0       & 1       & 0       & 38      & 1       & 0       & 71.2833 & 1       & 0       & 0      \\\\\n",
       "\t 1       & 0       & 0       & 1       & 1       & 0       & 26      & 0       & 0       &  7.9250 & 0       & 0       & 1      \\\\\n",
       "\t 1       & 1       & 0       & 0       & 1       & 0       & 35      & 1       & 0       & 53.1000 & 0       & 0       & 1      \\\\\n",
       "\t 0       & 0       & 0       & 1       & 0       & 1       & 35      & 0       & 0       &  8.0500 & 0       & 0       & 1      \\\\\n",
       "\t 0       & 0       & 0       & 1       & 0       & 1       & 24      & 0       & 0       &  8.4583 & 0       & 1       & 0      \\\\\n",
       "\\end{tabular}\n"
      ],
      "text/markdown": [
       "\n",
       "| Survived | Pclass_1 | Pclass_2 | Pclass_3 | Sex_female | Sex_male | Age | SibSp | Parch | Fare | Embarked_C | Embarked_Q | Embarked_S |\n",
       "|---|---|---|---|---|---|---|---|---|---|---|---|---|\n",
       "| 0       | 0       | 0       | 1       | 0       | 1       | 22      | 1       | 0       |  7.2500 | 0       | 0       | 1       |\n",
       "| 1       | 1       | 0       | 0       | 1       | 0       | 38      | 1       | 0       | 71.2833 | 1       | 0       | 0       |\n",
       "| 1       | 0       | 0       | 1       | 1       | 0       | 26      | 0       | 0       |  7.9250 | 0       | 0       | 1       |\n",
       "| 1       | 1       | 0       | 0       | 1       | 0       | 35      | 1       | 0       | 53.1000 | 0       | 0       | 1       |\n",
       "| 0       | 0       | 0       | 1       | 0       | 1       | 35      | 0       | 0       |  8.0500 | 0       | 0       | 1       |\n",
       "| 0       | 0       | 0       | 1       | 0       | 1       | 24      | 0       | 0       |  8.4583 | 0       | 1       | 0       |\n",
       "\n"
      ],
      "text/plain": [
       "  Survived Pclass_1 Pclass_2 Pclass_3 Sex_female Sex_male Age SibSp Parch\n",
       "1 0        0        0        1        0          1        22  1     0    \n",
       "2 1        1        0        0        1          0        38  1     0    \n",
       "3 1        0        0        1        1          0        26  0     0    \n",
       "4 1        1        0        0        1          0        35  1     0    \n",
       "5 0        0        0        1        0          1        35  0     0    \n",
       "6 0        0        0        1        0          1        24  0     0    \n",
       "  Fare    Embarked_C Embarked_Q Embarked_S\n",
       "1  7.2500 0          0          1         \n",
       "2 71.2833 1          0          0         \n",
       "3  7.9250 0          0          1         \n",
       "4 53.1000 0          0          1         \n",
       "5  8.0500 0          0          1         \n",
       "6  8.4583 0          1          0         "
      ]
     },
     "metadata": {},
     "output_type": "display_data"
    }
   ],
   "source": [
    "# reviewing the dataframe\n",
    "head(df)"
   ]
  },
  {
   "cell_type": "code",
   "execution_count": 186,
   "metadata": {},
   "outputs": [
    {
     "name": "stdout",
     "output_type": "stream",
     "text": [
      "'data.frame':\t1308 obs. of  13 variables:\n",
      " $ Survived  : Factor w/ 2 levels \"0\",\"1\": 1 2 2 2 1 1 1 1 2 2 ...\n",
      " $ Pclass_1  : int  0 1 0 1 0 0 1 0 0 0 ...\n",
      " $ Pclass_2  : int  0 0 0 0 0 0 0 0 0 1 ...\n",
      " $ Pclass_3  : int  1 0 1 0 1 1 0 1 1 0 ...\n",
      " $ Sex_female: int  0 1 1 1 0 0 0 0 1 1 ...\n",
      " $ Sex_male  : int  1 0 0 0 1 1 1 1 0 0 ...\n",
      " $ Age       : num  22 38 26 35 35 24 54 2 27 14 ...\n",
      " $ SibSp     : int  1 1 0 1 0 0 0 3 0 1 ...\n",
      " $ Parch     : int  0 0 0 0 0 0 0 1 2 0 ...\n",
      " $ Fare      : num  7.25 71.28 7.92 53.1 8.05 ...\n",
      " $ Embarked_C: int  0 1 0 0 0 0 0 0 0 1 ...\n",
      " $ Embarked_Q: int  0 0 0 0 0 1 0 0 0 0 ...\n",
      " $ Embarked_S: int  1 0 1 1 1 0 1 1 1 0 ...\n",
      " - attr(*, \"dummies\")=List of 3\n",
      "  ..$ Pclass  : int  2 3 4\n",
      "  ..$ Sex     : int  5 6\n",
      "  ..$ Embarked: int  11 12 13\n"
     ]
    }
   ],
   "source": [
    "str(df)"
   ]
  },
  {
   "cell_type": "markdown",
   "metadata": {},
   "source": [
    "### Building logistic regression model"
   ]
  },
  {
   "cell_type": "code",
   "execution_count": 187,
   "metadata": {},
   "outputs": [
    {
     "data": {
      "text/plain": [
       "\n",
       "Call:\n",
       "glm(formula = Survived ~ ., family = binomial(link = \"logit\"), \n",
       "    data = train)\n",
       "\n",
       "Deviance Residuals: \n",
       "    Min       1Q   Median       3Q      Max  \n",
       "-2.4349  -0.6522  -0.4234   0.6340   2.4240  \n",
       "\n",
       "Coefficients: (3 not defined because of singularities)\n",
       "             Estimate Std. Error z value Pr(>|z|)    \n",
       "(Intercept) -1.320772   0.321431  -4.109 3.97e-05 ***\n",
       "Pclass_1     2.309404   0.373105   6.190 6.03e-10 ***\n",
       "Pclass_2     1.344099   0.273413   4.916 8.83e-07 ***\n",
       "Pclass_3           NA         NA      NA       NA    \n",
       "Sex_female   2.680826   0.227509  11.783  < 2e-16 ***\n",
       "Sex_male           NA         NA      NA       NA    \n",
       "Age         -0.034440   0.009316  -3.697 0.000218 ***\n",
       "SibSp       -0.258775   0.124057  -2.086 0.036984 *  \n",
       "Parch       -0.094577   0.143037  -0.661 0.508480    \n",
       "Fare        -0.001592   0.003185  -0.500 0.617070    \n",
       "Embarked_C   0.400614   0.272425   1.471 0.141413    \n",
       "Embarked_Q   0.463049   0.370351   1.250 0.211190    \n",
       "Embarked_S         NA         NA      NA       NA    \n",
       "---\n",
       "Signif. codes:  0 '***' 0.001 '**' 0.01 '*' 0.05 '.' 0.1 ' ' 1\n",
       "\n",
       "(Dispersion parameter for binomial family taken to be 1)\n",
       "\n",
       "    Null deviance: 891.99  on 666  degrees of freedom\n",
       "Residual deviance: 604.40  on 657  degrees of freedom\n",
       "AIC: 624.4\n",
       "\n",
       "Number of Fisher Scoring iterations: 5\n"
      ]
     },
     "metadata": {},
     "output_type": "display_data"
    }
   ],
   "source": [
    "## Splitting training and test data\n",
    "train <- df[1:667,]\n",
    "test <- df[668:889, ]\n",
    "\n",
    "## Model Creation\n",
    "model <- glm(Survived ~.,family=binomial(link='logit'),data=train)\n",
    "\n",
    "## Model Summary\n",
    "summary(model)"
   ]
  },
  {
   "cell_type": "code",
   "execution_count": null,
   "metadata": {},
   "outputs": [],
   "source": [
    "## Using anova() to analyze the table of devaiance\n",
    "anova(model, test=\"Chisq\")"
   ]
  },
  {
   "cell_type": "markdown",
   "metadata": {},
   "source": [
    "Analysis of Deviance Table\n",
    "\n",
    "Model: binomial, link: logit\n",
    "\n",
    "Response: Survived\n",
    "\n",
    "Terms added sequentially (first to last)\n",
    "\n",
    "\n",
    "           Df Deviance Resid. Df Resid. Dev  Pr(>Chi)    \n",
    "NULL                         666     891.99              \n",
    "Pclass_1    1   39.603       665     852.39 3.112e-10 ***\n",
    "Pclass_2    1   26.485       664     825.91 2.655e-07 ***\n",
    "Pclass_3    0    0.000       664     825.91              \n",
    "Sex_female  1  197.978       663     627.93 < 2.2e-16 ***\n",
    "Sex_male    0    0.000       663     627.93              \n",
    "Age         1   10.473       662     617.45  0.001211 ** \n",
    "SibSp       1    8.712       661     608.74  0.003162 ** \n",
    "Fare        1    0.263       660     608.48  0.608287    \n",
    "Embarked_   1    0.175       659     608.31  0.676059    \n",
    "Embarked_C  1    1.776       658     606.53  0.182588    \n",
    "Embarked_Q  1    1.897       657     604.63  0.168457    \n",
    "Embarked_S  0    0.000       657     604.63              \n",
    "Signif. codes:  0 ‘***’ 0.001 ‘**’ 0.01 ‘*’ 0.05 ‘.’ 0.1 ‘ ’ 1"
   ]
  },
  {
   "cell_type": "code",
   "execution_count": 209,
   "metadata": {},
   "outputs": [
    {
     "name": "stderr",
     "output_type": "stream",
     "text": [
      "Warning message in predict.lm(object, newdata, se.fit, scale = 1, type = if (type == :\n",
      "\"prediction from a rank-deficient fit may be misleading\""
     ]
    }
   ],
   "source": [
    "# CHECKING PREDICTION ACCURACY\n",
    "fitted.probabilities <- predict(model, newdata=test, type='response')\n",
    "\n",
    "# Now let's calculate from the predicted values:\n",
    "fitted.results <- ifelse(fitted.probabilities > 0.5,1,0)\n"
   ]
  },
  {
   "cell_type": "code",
   "execution_count": 210,
   "metadata": {},
   "outputs": [
    {
     "name": "stdout",
     "output_type": "stream",
     "text": [
      "[1] \"Accuracy 0.828828828828829\"\n"
     ]
    }
   ],
   "source": [
    "# Checking the accuracy of the data\n",
    "misClasificError <- mean(fitted.results != test$Survived)\n",
    "print(paste('Accuracy',1-misClasificError))"
   ]
  },
  {
   "cell_type": "code",
   "execution_count": 211,
   "metadata": {},
   "outputs": [
    {
     "data": {
      "text/plain": [
       " Cohen's Kappa for 2 Raters (Weights: unweighted)\n",
       "\n",
       " Subjects = 222 \n",
       "   Raters = 2 \n",
       "    Kappa = 0.619 \n",
       "\n",
       "        z = 9.29 \n",
       "  p-value = 0 "
      ]
     },
     "metadata": {},
     "output_type": "display_data"
    }
   ],
   "source": [
    "kappa2(data.frame(test$Survived,  result))"
   ]
  },
  {
   "cell_type": "code",
   "execution_count": null,
   "metadata": {},
   "outputs": [],
   "source": [
    "## Confusion matrix and statistics\n",
    "library(caret)\n",
    "confusionMatrix(data=result, reference=test$Survived)"
   ]
  },
  {
   "cell_type": "markdown",
   "metadata": {},
   "source": [
    " Confusion Matrix and Statistics\n",
    "\n",
    "          Reference\n",
    " Prediction   0   1\n",
    "          0 128  25\n",
    "          1  13  56\n",
    "                                           \n",
    "                Accuracy : 0.8288          \n",
    "                  95% CI : (0.7727, 0.8759)\n",
    "     No Information Rate : 0.6351          \n",
    "     P-Value [Acc > NIR] : 1.817e-10       \n",
    "                                           \n",
    "                   Kappa : 0.6187          \n",
    "  Mcnemar's Test P-Value : 0.07435         \n",
    "                                           \n",
    "             Sensitivity : 0.9078          \n",
    "             Specificity : 0.6914          \n",
    "          Pos Pred Value : 0.8366          \n",
    "          Neg Pred Value : 0.8116          \n",
    "              Prevalence : 0.6351          \n",
    "          Detection Rate : 0.5766          \n",
    "    Detection Prevalence : 0.6892          \n",
    "       Balanced Accuracy : 0.7996          \n",
    "                                           \n",
    "        'Positive' Class : 0               \n",
    " "
   ]
  },
  {
   "cell_type": "code",
   "execution_count": null,
   "metadata": {},
   "outputs": [],
   "source": [
    "## ROC Curve and calculating the area under the curve(AUC)\n",
    "library(ROCR)\n",
    "predictions <- predict(model, newdata=test, type=\"response\")\n",
    "ROCRpred <- prediction(predictions, test$Survived)\n",
    "ROCRperf <- performance(ROCRpred, measure = \"tpr\", x.measure = \"fpr\")\n",
    "\n",
    "plot(ROCRperf, colorize = TRUE, text.adj = c(-0.2,1.7), print.cutoffs.at = seq(0,1,0.1))"
   ]
  },
  {
   "attachments": {
    "ROCR%20curve.png": {
     "image/png": "[encoded data removed]"
    }
   },
   "cell_type": "markdown",
   "metadata": {},
   "source": [
    "![ROCR%20curve.png](attachment:ROCR%20curve.png)"
   ]
  },
  {
   "cell_type": "code",
   "execution_count": 208,
   "metadata": {},
   "outputs": [
    {
     "data": {
      "text/html": [
       "0.873785132650381"
      ],
      "text/latex": [
       "0.873785132650381"
      ],
      "text/markdown": [
       "0.873785132650381"
      ],
      "text/plain": [
       "[1] 0.8737851"
      ]
     },
     "metadata": {},
     "output_type": "display_data"
    }
   ],
   "source": [
    "auc <- performance(ROCRpred, measure = \"auc\")\n",
    "auc <- auc@y.values[[1]]\n",
    "auc"
   ]
  },
  {
   "cell_type": "code",
   "execution_count": null,
   "metadata": {},
   "outputs": [],
   "source": []
  }
 ],
 "metadata": {
  "kernelspec": {
   "display_name": "R",
   "language": "R",
   "name": "ir"
  },
  "language_info": {
   "codemirror_mode": "r",
   "file_extension": ".r",
   "mimetype": "text/x-r-source",
   "name": "R",
   "pygments_lexer": "r",
   "version": "3.6.1"
  }
 },
 "nbformat": 4,
 "nbformat_minor": 2
}
